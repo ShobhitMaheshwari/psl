{
 "cells": [
  {
   "cell_type": "code",
   "execution_count": 1,
   "metadata": {
    "collapsed": true
   },
   "outputs": [],
   "source": [
    "import json\n",
    "import numpy as np\n",
    "import copy\n",
    "from random import shuffle\n",
    "\n",
    "def plot(users):\n",
    "    import matplotlib.pyplot as plt\n",
    "    import numpy as np\n",
    "    import plotly.plotly as py\n",
    "\n",
    "    a=[]\n",
    "    for user in users:\n",
    "        a.append(len(user['friends']))\n",
    "\n",
    "    import numpy as np\n",
    "    import matplotlib.mlab as mlab\n",
    "    import matplotlib.pyplot as plt\n",
    "    n, bins, patches = plt.hist(a, 50, normed=1, facecolor='green', alpha=0.75)\n",
    "    plt.show()\n",
    "\n",
    "def getusers(thresh, filter=False):\n",
    "    users=[]\n",
    "    with open('../yelp/yelp_academic_dataset_user.json') as f:\n",
    "        for line in f:\n",
    "            users.append(json.loads(line))\n",
    "\n",
    "    print(\"total users in dataset: \" + str(len(users)))\n",
    "    if(not filter):\n",
    "        return users\n",
    "    \n",
    "    a=set()\n",
    "    users2 = []\n",
    "    for user in users:\n",
    "        if (len(user['friends']) > thresh):\n",
    "            a.add(user['user_id'])\n",
    "            users2.append(copy.deepcopy(user))\n",
    "\n",
    "    for user in users2:\n",
    "        user['friends'] = [x for x in user['friends'] if x in a]\n",
    "    users = users2\n",
    "        \n",
    "    reviews=[]\n",
    "    userset = {}\n",
    "    for user in users:\n",
    "        user['lived'] = set()\n",
    "        userset[user['user_id']] = user\n",
    "\n",
    "    businesses = {}\n",
    "    with open('../yelp/yelp_academic_dataset_business.json') as f:\n",
    "        for line in f:\n",
    "            business = json.loads(line)\n",
    "            businesses[business['business_id']] = business['city']\n",
    "\n",
    "    with open('../yelp/yelp_academic_dataset_review.json') as f:\n",
    "        for line in f:\n",
    "            review = json.loads(line)\n",
    "            if(review['user_id'] in userset):\n",
    "                userset[review['user_id']]['lived'].add(businesses[review['business_id']])\n",
    "    print (\"total filtered users: \"+str(len(users)) + \" thresh: \" + str(thresh))\n",
    "    return users\n",
    "\n",
    "def create_knows(users2):\n",
    "    #creating knows_obs file\n",
    "    knows=set()\n",
    "    for user in users2:\n",
    "        for friend in user['friends']:\n",
    "            knows.add((user['user_id'], friend, 1)) \n",
    "            knows.add((friend, user['user_id'], 1)) \n",
    "    for i in range(0, len(users2)):\n",
    "        for j in range(i+1, len(users2)):\n",
    "            if((users2[i]['user_id'], users2[j]['user_id'], 1) not in knows):\n",
    "                knows.add((users2[i]['user_id'], users2[j]['user_id'], 0)) \n",
    "            if((users2[j]['user_id'], users2[i]['user_id'], 1) not in knows):\n",
    "                knows.add((users2[j]['user_id'], users2[i]['user_id'], 0)) \n",
    "    \n",
    "    #print data to file\n",
    "    knows_obs = set()\n",
    "    knows_tru = set()\n",
    "    knows = list(knows)\n",
    "    shuffle(knows)\n",
    "    for i in range(0, len(knows)):\n",
    "        if(i < len(knows)*.9):\n",
    "            choice=0\n",
    "        else:\n",
    "            choice = 1\n",
    "        elem = knows[i]\n",
    "        if(choice == 0 and elem[2]==1):\n",
    "            knows_obs.add(elem)\n",
    "        else:\n",
    "            knows_tru.add(elem)\n",
    "    return knows_obs, knows_tru\n",
    "\n",
    "def saveKnows(knows_obs, knows_tru):#for psl\n",
    "    with open('knows_obs.txt', 'a') as f:\n",
    "        for elem in knows_obs:\n",
    "            f.write(elem[0] + \"\\t\" + elem[1] + \"\\n\")\n",
    "    with open('knows_truth.txt', 'a') as f:\n",
    "        for elem in knows_tru:\n",
    "            f.write(elem[0] + \"\\t\" + elem[1] + \"\\t\" + str(elem[2]) + \"\\n\")\n",
    "    with open('knows_targets.txt', 'a') as f:\n",
    "        for elem in knows_tru:\n",
    "            f.write(elem[0] + \"\\t\" + elem[1] + \"\\n\")\n",
    "\n",
    "def saveKnows2(knows_obs, knows_tru):#for alchemy\n",
    "    reviews=[]\n",
    "    userset = {}\n",
    "    for user in users:\n",
    "        user['lived'] = set()\n",
    "        userset[user['user_id']] = user\n",
    "\n",
    "    businesses = {}\n",
    "    with open('../yelp/yelp_academic_dataset_business.json') as f:\n",
    "        for line in f:\n",
    "            business = json.loads(line)\n",
    "            businesses[business['business_id']] = business['city']\n",
    "\n",
    "    with open('../yelp/yelp_academic_dataset_review.json') as f:\n",
    "        for line in f:\n",
    "            review = json.loads(line)\n",
    "            if(review['user_id'] in userset):\n",
    "                userset[review['user_id']]['lived'].add(businesses[review['business_id']])\n",
    "                \n",
    "    with open('train.db', 'a') as f:\n",
    "        for elem in knows_obs:\n",
    "            f.write(\"Friends(\"+elem[0] + \", \" + elem[1] + \")\\n\")\n",
    "        for user in users:\n",
    "            for city in user['lived']:\n",
    "                f.write(user['user_id'] + \"\\t\" + city + \"\\n\")\n",
    "            \n",
    "    with open('knows_truth.txt', 'a') as f:\n",
    "        for elem in knows_tru:\n",
    "            f.write(elem[0] + \"\\t\" + elem[1] + \"\\t\" + str(elem[2]) + \"\\n\")\n",
    "    with open('knows_targets.txt', 'a') as f:\n",
    "        for elem in knows_tru:\n",
    "            f.write(elem[0] + \"\\t\" + elem[1] + \"\\n\")\n",
    "\n",
    "            \n",
    "def save_lived(users):\n",
    "    with open('lived_obs.txt', 'a') as f:\n",
    "        for user in users:\n",
    "            for city in user['lived']:\n",
    "                f.write(user['user_id'] + \"\\t\" + city + \"\\n\")"
   ]
  },
  {
   "cell_type": "code",
   "execution_count": 5,
   "metadata": {},
   "outputs": [
    {
     "name": "stdout",
     "output_type": "stream",
     "text": [
      "total users in dataset: 1029432\n"
     ]
    },
    {
     "data": {
      "image/png": "[encoded data removed]",
      "text/plain": [
       "<matplotlib.figure.Figure at 0x7f8994307e10>"
      ]
     },
     "metadata": {},
     "output_type": "display_data"
    }
   ],
   "source": [
    "users1 = getusers(200)\n",
    "plot(users1)"
   ]
  },
  {
   "cell_type": "code",
   "execution_count": null,
   "metadata": {},
   "outputs": [
    {
     "name": "stdout",
     "output_type": "stream",
     "text": [
      "total users in dataset: 1029432\n"
     ]
    }
   ],
   "source": [
    "from random import shuffle\n",
    "users = getusers(2000, True)# other possible threshold is 2000\n",
    "plot(users)\n",
    "knows_obs, knows_tru = create_knows(users)\n",
    "saveKnows(knows_obs, knows_tru)\n",
    "save_lived(users)\n",
    "print(\"done\")"
   ]
  },
  {
   "cell_type": "code",
   "execution_count": 7,
   "metadata": {},
   "outputs": [
    {
     "name": "stdout",
     "output_type": "stream",
     "text": [
      "total users in dataset: 1029432\n",
      "total filtered users: 350 thresh: 2500\n"
     ]
    },
    {
     "data": {
      "image/png": "[encoded data removed]",
      "text/plain": [
       "<matplotlib.figure.Figure at 0x7f70d45bd2e8>"
      ]
     },
     "metadata": {},
     "output_type": "display_data"
    },
    {
     "name": "stdout",
     "output_type": "stream",
     "text": [
      "done\n"
     ]
    }
   ],
   "source": [
    "from random import shuffle\n",
    "users = getusers(2500, True)# other possible threshold is 2000\n",
    "plot(users)\n",
    "knows_obs, knows_tru = create_knows(users)\n",
    "saveKnows(knows_obs, knows_tru)\n",
    "save_lived(users)\n",
    "print(\"done\")"
   ]
  },
  {
   "cell_type": "code",
   "execution_count": null,
   "metadata": {
    "collapsed": true
   },
   "outputs": [],
   "source": [
    "#create the data files for alchemy (DOES NOT WORK for now)\n",
    "from random import shuffle\n",
    "users = getusers(2000, True)# other possible threshold is 2000\n",
    "plot(users)\n",
    "knows_obs, knows_tru = create_knows(users)\n",
    "saveKnows(knows_obs, knows_tru)\n",
    "save_lived(users)\n",
    "print(\"done\")"
   ]
  },
  {
   "cell_type": "code",
   "execution_count": 2,
   "metadata": {
    "collapsed": true
   },
   "outputs": [],
   "source": [
    "import numpy as np\n",
    "import matplotlib.pyplot as plt\n",
    "\n",
    "from sklearn.datasets import make_multilabel_classification\n",
    "from sklearn.multiclass import OneVsRestClassifier\n",
    "from sklearn.svm import SVC\n",
    "from sklearn.preprocessing import LabelBinarizer\n",
    "from sklearn.decomposition import PCA\n",
    "from sklearn.cross_decomposition import CCA\n",
    "\n",
    "def classify(X, Y):\n",
    "    classif = OneVsRestClassifier(SVC(kernel='linear'))\n",
    "    classif.fit(X, Y)\n",
    "    print(classif.score(X, Y))\n",
    "\n",
    "def getData():\n",
    "    #create X and Y matrix\n",
    "    #X = users x cities\n",
    "    #Y = users x users    \n",
    "    users = getusers(2000, True)# other possible threshold is 2000\n",
    "    cities = set()\n",
    "    for user in users:\n",
    "        for c in user['lived']:\n",
    "            cities.add(c)\n",
    "        user['friends'] = set(user['friends'])\n",
    "\n",
    "    cities = list(cities)\n",
    "    X = np.zeros(shape=(len(users),len(cities)))\n",
    "    Y = np.zeros(shape=(len(users), len(users)))\n",
    "\n",
    "    for i in range(0, len(users)):\n",
    "        for j in range(0, len(cities)):\n",
    "            if(cities[j] in users[i]['lived']):\n",
    "                X[i][j] = 1\n",
    "        for j in range(0, len(users)):\n",
    "            if(users[j]['user_id'] in users[i]['friends']):\n",
    "                Y[i][j] = 1    \n",
    "    return X,Y\n",
    "#X,Y = getData()\n",
    "#classify(X, Y) # result is 0.0603112840467    \n",
    "\n",
    "def getData2():\n",
    "    #create X and Y matrix\n",
    "    #X = users x (cities+users)\n",
    "    #Y = users x users\n",
    "    \n",
    "    users = getusers(2000, True)# other possible threshold is 2000\n",
    "    \n",
    "    cities = set()\n",
    "    for user in users:\n",
    "        for c in user['lived']:\n",
    "            cities.add(c)\n",
    "        user['friends'] = set(user['friends'])\n",
    "\n",
    "    cities = list(cities)\n",
    "    X = np.zeros(shape=(len(users),len(cities) + len(users)))\n",
    "    Y = np.zeros(shape=(len(users), len(users)))\n",
    "\n",
    "    ran = np.random.choice(2, len(users)*len(users), p=[0.1, 0.9])\n",
    "    for i in range(0, len(users)):\n",
    "        for j in range(0, len(cities)):\n",
    "            if(cities[j] in users[i]['lived']):\n",
    "                X[i][j] = 1\n",
    "        \n",
    "        for j in range(0, len(users)):\n",
    "            if(users[j]['user_id'] in users[i]['friends']):\n",
    "                Y[i][j] = 1    \n",
    "                     \n",
    "    for i in range(0, len(users)):\n",
    "        for j in range(0, len(users)):\n",
    "            if(users[j]['user_id'] in users[i]['friends']) and ran[i*len(users) + j] ==1:\n",
    "                X[i][j+len(cities)] = 1\n",
    "                \n",
    "    return X,Y"
   ]
  },
  {
   "cell_type": "code",
   "execution_count": 13,
   "metadata": {},
   "outputs": [
    {
     "name": "stdout",
     "output_type": "stream",
     "text": [
      "total users in dataset: 1029432\n",
      "total filtered users: 514 thresh: 2000\n"
     ]
    }
   ],
   "source": [
    "X,Y = getData2()\n",
    "classif = OneVsRestClassifier(SVC(kernel='linear'))\n",
    "classif.fit(X, Y)\n",
    "e = classif.predict(X)"
   ]
  },
  {
   "cell_type": "code",
   "execution_count": 18,
   "metadata": {
    "collapsed": true
   },
   "outputs": [],
   "source": [
    "def score(A, B):\n",
    "    \"\"\"\n",
    "    A is target, B is predicted\n",
    "    \"\"\"\n",
    "    TP = 0\n",
    "    FP = 0\n",
    "    TN = 0\n",
    "    FN = 0\n",
    "    for i in range(0, A.shape[0]):\n",
    "        for j in range(0, A.shape[1]):\n",
    "            if(A[i][j] == 0 and B[i][j] == 0):\n",
    "                TN += 1\n",
    "            if(A[i][j] == 1 and B[i][j] == 1):\n",
    "                TP += 1\n",
    "            if(A[i][j] == 1 and B[i][j] == 0):\n",
    "                FN += 1\n",
    "            if(A[i][j] == 0 and B[i][j] == 1):\n",
    "                FP += 1\n",
    "    print(\"TP: \" + str(TP) + \" TN: \" + str(TN) + \" FP: \" + str(FP) + \" FN: \" + str(FN))\n",
    "    accuracy = (TP+TN)/(TP+TN+FP+FN)\n",
    "    precision = TP/(TP+FP)\n",
    "    recall = TP/(TP+FN)\n",
    "    \n",
    "    print(\"accuracy:\" + str(accuracy))\n",
    "    print(\"precision:\" + str(precision))\n",
    "    print(\"recall:\" + str(recall))"
   ]
  },
  {
   "cell_type": "code",
   "execution_count": 15,
   "metadata": {},
   "outputs": [
    {
     "name": "stdout",
     "output_type": "stream",
     "text": [
      "TP: 87595 TN: 176601 FP: 0 FN: 0\n",
      "accuracy:1.0\n",
      "precision:1.0\n",
      "recall:1.0\n"
     ]
    },
    {
     "data": {
      "text/plain": [
       "'\\n    for features just cities\\n    accuracy:0.7741790186073976\\n    precision:0.7575416728130993\\n    recall:0.46901078828700266\\n    \\n    for features with cities along with 90% positive friendships\\n    accuracy:0.9999962149313388\\n    precision:1.0\\n    recall:0.9999885838232776\\n    '"
      ]
     },
     "execution_count": 15,
     "metadata": {},
     "output_type": "execute_result"
    }
   ],
   "source": [
    "score(Y, e)\n",
    "\"\"\"\n",
    "    for features just cities\n",
    "    accuracy:0.7741790186073976\n",
    "    precision:0.7575416728130993\n",
    "    recall:0.46901078828700266\n",
    "    \n",
    "    for features with cities along with 90% positive friendships\n",
    "    accuracy:0.9999962149313388\n",
    "    precision:1.0\n",
    "    Erecall:0.9999885838232776\n",
    "    \"\"\""
   ]
  },
  {
   "cell_type": "code",
   "execution_count": 9,
   "metadata": {},
   "outputs": [
    {
     "name": "stdout",
     "output_type": "stream",
     "text": [
      "total users in dataset: 1029432\n",
      "total filtered users: 514 thresh: 2000\n"
     ]
    },
    {
     "data": {
      "image/png": "[encoded data removed]",
      "text/plain": [
       "<matplotlib.figure.Figure at 0x7f89942b5160>"
      ]
     },
     "metadata": {},
     "output_type": "display_data"
    }
   ],
   "source": [
    "from random import shuffle\n",
    "users = getusers(2000, True)# other possible threshold is 2000\n",
    "plot(users)"
   ]
  },
  {
   "cell_type": "code",
   "execution_count": 26,
   "metadata": {},
   "outputs": [
    {
     "data": {
      "text/plain": [
       "4153150"
      ]
     },
     "execution_count": 26,
     "metadata": {},
     "output_type": "execute_result"
    }
   ],
   "source": [
    "r = []\n",
    "with open('../yelp/yelp_academic_dataset_review.json') as f:\n",
    "    for line in f:\n",
    "        r.append(json.loads(line))\n",
    "len(r)"
   ]
  },
  {
   "cell_type": "code",
   "execution_count": 3,
   "metadata": {},
   "outputs": [
    {
     "name": "stdout",
     "output_type": "stream",
     "text": [
      "total users in dataset: 1029432\n",
      "total filtered users: 514 thresh: 2000\n"
     ]
    }
   ],
   "source": [
    "X,Y = getData2()"
   ]
  },
  {
   "cell_type": "code",
   "execution_count": 19,
   "metadata": {},
   "outputs": [
    {
     "name": "stdout",
     "output_type": "stream",
     "text": [
      "TP: 21828 TN: 50217 FP: 2718 FN: 4393\n",
      "accuracy:0.9101647379857497\n",
      "precision:0.8892691273527255\n",
      "recall:0.8324625300331795\n"
     ]
    }
   ],
   "source": [
    "from random import randrange\n",
    "idx = np.random.permutation(len(X))\n",
    "train_idx = idx[:(int)(.7*len(idx))]\n",
    "test_idx = idx[-(int)(.3*len(idx)):]\n",
    "XX = np.array(X)[train_idx]\n",
    "YY = np.array(Y)[train_idx]\n",
    "classif = OneVsRestClassifier(SVC(kernel='linear'))\n",
    "classif.fit(XX, YY)\n",
    "e = classif.predict(np.array(X)[test_idx])\n",
    "score(np.array(Y)[test_idx], e)"
   ]
  },
  {
   "cell_type": "code",
   "execution_count": 20,
   "metadata": {},
   "outputs": [
    {
     "name": "stdout",
     "output_type": "stream",
     "text": [
      "total users in dataset: 1029432\n",
      "total filtered users: 514 thresh: 2000\n"
     ]
    }
   ],
   "source": [
    "users = getusers(2000, True)# other possible threshold is 2000"
   ]
  },
  {
   "cell_type": "code",
   "execution_count": 8,
   "metadata": {},
   "outputs": [
    {
     "name": "stdout",
     "output_type": "stream",
     "text": [
      "total users in dataset: 1029432\n"
     ]
    },
    {
     "data": {
      "image/png": "[encoded data removed]",
      "text/plain": [
       "<matplotlib.figure.Figure at 0x7fe918ca4898>"
      ]
     },
     "metadata": {},
     "output_type": "display_data"
    }
   ],
   "source": [
    "import matplotlib.pyplot as plt\n",
    "import numpy as np\n",
    "import plotly.plotly as py\n",
    "import matplotlib.mlab as mlab\n",
    "users = getusers(2000)# other possible threshold is 2000\n",
    "a=[]\n",
    "for user in users:\n",
    "    a.append(len(user['friends']))\n",
    "\n",
    "n, bins, patches = plt.hist(a, 50, normed=1, facecolor='green', alpha=0.75)\n",
    "plt.ylabel('Probability');\n",
    "plt.xlabel('Number of friends');\n",
    "plt.title('Probability distribution of friends in complete dataset (tot_users=1029432)')\n",
    "plt.show()"
   ]
  },
  {
   "cell_type": "code",
   "execution_count": 6,
   "metadata": {},
   "outputs": [
    {
     "name": "stdout",
     "output_type": "stream",
     "text": [
      "total users in dataset: 1029432\n",
      "total filtered users: 514 thresh: 2000\n"
     ]
    },
    {
     "data": {
      "image/png": "[encoded data removed]",
      "text/plain": [
       "<matplotlib.figure.Figure at 0x7fe7630ff208>"
      ]
     },
     "metadata": {},
     "output_type": "display_data"
    }
   ],
   "source": [
    "import matplotlib.pyplot as plt\n",
    "import numpy as np\n",
    "import plotly.plotly as py\n",
    "import matplotlib.mlab as mlab\n",
    "users = getusers(2000,True)# other possible threshold is 2000\n",
    "a=[]\n",
    "for user in users:\n",
    "    a.append(len(user['friends']))\n",
    "n, bins, patches = plt.hist(a, 50, normed=1, facecolor='green', alpha=0.75)\n",
    "plt.ylabel('Probability');\n",
    "plt.xlabel('Number of friends');\n",
    "plt.title('Probability distribution of friends in filtered dataset (thresh=2000, tot_users=514)')\n",
    "plt.show()"
   ]
  },
  {
   "cell_type": "code",
   "execution_count": 7,
   "metadata": {},
   "outputs": [
    {
     "name": "stdout",
     "output_type": "stream",
     "text": [
      "total users in dataset: 1029432\n",
      "total filtered users: 350 thresh: 2500\n"
     ]
    },
    {
     "data": {
      "image/png": "[encoded data removed]",
      "text/plain": [
       "<matplotlib.figure.Figure at 0x7fe913506358>"
      ]
     },
     "metadata": {},
     "output_type": "display_data"
    }
   ],
   "source": [
    "import matplotlib.pyplot as plt\n",
    "import numpy as np\n",
    "import plotly.plotly as py\n",
    "import matplotlib.mlab as mlab\n",
    "users = getusers(2500,True)# other possible threshold is 2000\n",
    "a=[]\n",
    "for user in users:\n",
    "    a.append(len(user['friends']))\n",
    "\n",
    "n, bins, patches = plt.hist(a, 50, normed=1, facecolor='green', alpha=0.75)\n",
    "plt.ylabel('Probability');\n",
    "plt.xlabel('Number of friends');\n",
    "plt.title('Probability distribution of friends in filtered dataset (thresh=2500, tot_users=350)')\n",
    "plt.show()"
   ]
  }
 ],
 "metadata": {
  "anaconda-cloud": {},
  "kernelspec": {
   "display_name": "Python 3",
   "language": "python",
   "name": "python3"
  },
  "language_info": {
   "codemirror_mode": {
    "name": "ipython",
    "version": 3
   },
   "file_extension": ".py",
   "mimetype": "text/x-python",
   "name": "python",
   "nbconvert_exporter": "python",
   "pygments_lexer": "ipython3",
   "version": "3.4.3"
  }
 },
 "nbformat": 4,
 "nbformat_minor": 1
}
