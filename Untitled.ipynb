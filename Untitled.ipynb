{
 "cells": [
  {
   "cell_type": "code",
   "execution_count": 57,
   "metadata": {
    "scrolled": true
   },
   "outputs": [
    {
     "name": "stdout",
     "output_type": "stream",
     "text": [
      "1029432\n"
     ]
    }
   ],
   "source": [
    "import json\n",
    "users=[]\n",
    "with open('../yelp/yelp_academic_dataset_user.json') as f:\n",
    "    for line in f:\n",
    "        users.append(json.loads(line))\n",
    "print(len(users))"
   ]
  },
  {
   "cell_type": "code",
   "execution_count": 58,
   "metadata": {},
   "outputs": [
    {
     "data": {
      "image/png": "[encoded data removed]",
      "text/plain": [
       "<matplotlib.figure.Figure at 0x7f95a372eb00>"
      ]
     },
     "metadata": {},
     "output_type": "display_data"
    },
    {
     "data": {
      "text/plain": [
       "14995"
      ]
     },
     "execution_count": 58,
     "metadata": {},
     "output_type": "execute_result"
    }
   ],
   "source": [
    "import matplotlib.pyplot as plt\n",
    "import numpy as np\n",
    "import plotly.plotly as py\n",
    "\n",
    "a=[]\n",
    "for user in users:\n",
    "    a.append(len(user['friends']))\n",
    "\n",
    "import numpy as np\n",
    "import matplotlib.mlab as mlab\n",
    "import matplotlib.pyplot as plt\n",
    "n, bins, patches = plt.hist(a, 50, normed=1, facecolor='green', alpha=0.75)\n",
    "plt.show()\n",
    "max(a)"
   ]
  },
  {
   "cell_type": "code",
   "execution_count": 59,
   "metadata": {},
   "outputs": [
    {
     "name": "stdout",
     "output_type": "stream",
     "text": [
      "6618\n"
     ]
    }
   ],
   "source": [
    "#filter users\n",
    "import copy\n",
    "a=set()\n",
    "users2 = []\n",
    "for user in users:\n",
    "    if (len(user['friends']) > 500):\n",
    "        a.add(user['user_id'])\n",
    "        users2.append(copy.deepcopy(user))\n",
    "\n",
    "for user in users2:\n",
    "    user['friends'] = [x for x in user['friends'] if x in a]\n",
    "print(len(a))"
   ]
  },
  {
   "cell_type": "code",
   "execution_count": 60,
   "metadata": {},
   "outputs": [
    {
     "data": {
      "image/png": "[encoded data removed]",
      "text/plain": [
       "<matplotlib.figure.Figure at 0x7f94f9d5c828>"
      ]
     },
     "metadata": {},
     "output_type": "display_data"
    },
    {
     "data": {
      "text/plain": [
       "2145"
      ]
     },
     "execution_count": 60,
     "metadata": {},
     "output_type": "execute_result"
    }
   ],
   "source": [
    "import matplotlib.pyplot as plt\n",
    "import numpy as np\n",
    "import plotly.plotly as py\n",
    "\n",
    "a=[]\n",
    "for user in users2:\n",
    "    a.append(len(user['friends']))\n",
    "\n",
    "import numpy as np\n",
    "import matplotlib.mlab as mlab\n",
    "import matplotlib.pyplot as plt\n",
    "n, bins, patches = plt.hist(a, 50, normed=1, facecolor='green', alpha=0.75)\n",
    "plt.show()\n",
    "max(a)"
   ]
  },
  {
   "cell_type": "code",
   "execution_count": 61,
   "metadata": {},
   "outputs": [
    {
     "name": "stdout",
     "output_type": "stream",
     "text": [
      "6618\n",
      "43791306\n"
     ]
    }
   ],
   "source": [
    "#creating knows_obs file\n",
    "knows=set()\n",
    "for user in users2:\n",
    "    for friend in user['friends']:\n",
    "        knows.add((user['user_id'], friend, 1))\n",
    "        knows.add((friend, user['user_id'], 1))\n",
    "for i in range(0, len(users2)):\n",
    "    for j in range(i+1, len(users2)):\n",
    "        if((users2[i]['user_id'], users2[j]['user_id'], 1) not in knows):\n",
    "            knows.add((users2[i]['user_id'], users2[j]['user_id'], 0))\n",
    "        if((users2[j]['user_id'], users2[i]['user_id'], 1) not in knows):\n",
    "            knows.add((users2[j]['user_id'], users2[i]['user_id'], 0))\n",
    "            \n",
    "print(len(users2))       \n",
    "print(len(knows))"
   ]
  },
  {
   "cell_type": "code",
   "execution_count": 63,
   "metadata": {},
   "outputs": [
    {
     "ename": "TypeError",
     "evalue": "Can't convert 'int' object to str implicitly",
     "output_type": "error",
     "traceback": [
      "\u001b[0;31m---------------------------------------------------------------------------\u001b[0m",
      "\u001b[0;31mTypeError\u001b[0m                                 Traceback (most recent call last)",
      "\u001b[0;32m<ipython-input-63-d780246dc94a>\u001b[0m in \u001b[0;36m<module>\u001b[0;34m()\u001b[0m\n\u001b[1;32m     17\u001b[0m \u001b[0;32mwith\u001b[0m \u001b[0mopen\u001b[0m\u001b[0;34m(\u001b[0m\u001b[0;34m'knows_truth.txt'\u001b[0m\u001b[0;34m,\u001b[0m \u001b[0;34m'a'\u001b[0m\u001b[0;34m)\u001b[0m \u001b[0;32mas\u001b[0m \u001b[0mf\u001b[0m\u001b[0;34m:\u001b[0m\u001b[0;34m\u001b[0m\u001b[0m\n\u001b[1;32m     18\u001b[0m     \u001b[0;32mfor\u001b[0m \u001b[0melem\u001b[0m \u001b[0;32min\u001b[0m \u001b[0mknows_tru\u001b[0m\u001b[0;34m:\u001b[0m\u001b[0;34m\u001b[0m\u001b[0m\n\u001b[0;32m---> 19\u001b[0;31m         \u001b[0mf\u001b[0m\u001b[0;34m.\u001b[0m\u001b[0mwrite\u001b[0m\u001b[0;34m(\u001b[0m\u001b[0melem\u001b[0m\u001b[0;34m[\u001b[0m\u001b[0;36m0\u001b[0m\u001b[0;34m]\u001b[0m \u001b[0;34m+\u001b[0m \u001b[0;34m\"\\t\"\u001b[0m \u001b[0;34m+\u001b[0m \u001b[0melem\u001b[0m\u001b[0;34m[\u001b[0m\u001b[0;36m1\u001b[0m\u001b[0;34m]\u001b[0m \u001b[0;34m+\u001b[0m \u001b[0;34m\"\\t\"\u001b[0m \u001b[0;34m+\u001b[0m \u001b[0melem\u001b[0m\u001b[0;34m[\u001b[0m\u001b[0;36m2\u001b[0m\u001b[0;34m]\u001b[0m \u001b[0;34m+\u001b[0m \u001b[0;34m\"\\n\"\u001b[0m\u001b[0;34m)\u001b[0m\u001b[0;34m\u001b[0m\u001b[0m\n\u001b[0m\u001b[1;32m     20\u001b[0m \u001b[0;32mwith\u001b[0m \u001b[0mopen\u001b[0m\u001b[0;34m(\u001b[0m\u001b[0;34m'knows_targets.txt'\u001b[0m\u001b[0;34m,\u001b[0m \u001b[0;34m'a'\u001b[0m\u001b[0;34m)\u001b[0m \u001b[0;32mas\u001b[0m \u001b[0mf\u001b[0m\u001b[0;34m:\u001b[0m\u001b[0;34m\u001b[0m\u001b[0m\n\u001b[1;32m     21\u001b[0m     \u001b[0;32mfor\u001b[0m \u001b[0melem\u001b[0m \u001b[0;32min\u001b[0m \u001b[0mknows_tru\u001b[0m\u001b[0;34m:\u001b[0m\u001b[0;34m\u001b[0m\u001b[0m\n",
      "\u001b[0;31mTypeError\u001b[0m: Can't convert 'int' object to str implicitly"
     ]
    }
   ],
   "source": [
    "#print data to file\n",
    "knows_obs = set()\n",
    "knows_tru = set()\n",
    "knows_tar = set()\n",
    "for elem in knows:\n",
    "    choice = np.random.choice([0,1,2], 1, p=[0.2, 0.7, 0.1])[0]\n",
    "    if(choice == 0 and elem[2]==1):\n",
    "        knows_obs.add(elem)\n",
    "    elif(choice == 1):\n",
    "        knows_tru.add(elem)\n",
    "    else:\n",
    "        knows_tar.add(elem)\n",
    "\n",
    "with open('knows_obs.txt', 'a') as f:\n",
    "    for elem in knows_obs:\n",
    "        f.write(elem[0] + \"\\t\" + elem[1] + \"\\n\")\n",
    "with open('knows_truth.txt', 'a') as f:\n",
    "    for elem in knows_tru:\n",
    "        f.write(elem[0] + \"\\t\" + elem[1] + \"\\t\" + str(elem[2]) + \"\\n\")\n",
    "with open('knows_targets.txt', 'a') as f:\n",
    "    for elem in knows_tru:\n",
    "        f.write(elem[0] + \"\\t\" + elem[1] + \"\\n\")"
   ]
  },
  {
   "cell_type": "code",
   "execution_count": null,
   "metadata": {
    "collapsed": true
   },
   "outputs": [],
   "source": [
    "reviews=[]\n",
    "userset = {}\n",
    "for user in users2:\n",
    "    user['lived'] = []\n",
    "    userset[user['user_id']] = user\n",
    "\n",
    "businesses = {}\n",
    "with open('../yelp/yelp_academic_dataset_business.json') as f:\n",
    "    for line in f:\n",
    "        business = json.loads(line)\n",
    "        businesses[business['business_id']] = business['city']\n",
    "\n",
    "with open('../yelp/yelp_academic_dataset_review.json') as f:\n",
    "    for line in f:\n",
    "        review = json.loads(line)\n",
    "        if(review['user_id'] in userset):\n",
    "            userset[review['user_id']]['lived'].append(businesses[review['business_id']])"
   ]
  },
  {
   "cell_type": "code",
   "execution_count": 66,
   "metadata": {},
   "outputs": [
    {
     "name": "stdout",
     "output_type": "stream",
     "text": [
      "obtained users\n",
      "obtained users\n",
      "downloaded business\n"
     ]
    }
   ],
   "source": [
    "import json\n",
    "import numpy as np\n",
    "import copy\n",
    "\n",
    "def getusers():\n",
    "    users=[]\n",
    "    with open('../yelp/yelp_academic_dataset_user.json') as f:\n",
    "        for line in f:\n",
    "            users.append(json.loads(line))\n",
    "\n",
    "    print(\"got raw users\")\n",
    "    #filter users\n",
    "    a=set()\n",
    "    users2 = []\n",
    "    for user in users:\n",
    "        if (len(user['friends']) > 500):\n",
    "            a.add(user['user_id'])\n",
    "            users2.append(copy.deepcopy(user))\n",
    "\n",
    "    for user in users2:\n",
    "        user['friends'] = [x for x in user['friends'] if x in a]\n",
    "    return users2\n",
    "\n",
    "def create_knows(users2):\n",
    "    #creating knows_obs file\n",
    "    knows=set()\n",
    "    for user in users2:\n",
    "        for friend in user['friends']:\n",
    "            knows.add((user['user_id'], friend, 1))\n",
    "            knows.add((friend, user['user_id'], 1))\n",
    "    for i in range(0, len(users2)):\n",
    "        for j in range(i+1, len(users2)):\n",
    "            if((users2[i]['user_id'], users2[j]['user_id'], 1) not in knows):\n",
    "                knows.add((users2[i]['user_id'], users2[j]['user_id'], 0))\n",
    "            if((users2[j]['user_id'], users2[i]['user_id'], 1) not in knows):\n",
    "                knows.add((users2[j]['user_id'], users2[i]['user_id'], 0))\n",
    "\n",
    "    print(\"knows created\")\n",
    "    #print data to file\n",
    "    knows_obs = set()\n",
    "    knows_tru = set()\n",
    "    knows_tar = set()\n",
    "    for elem in knows:\n",
    "        choice = np.random.choice([0,1,2], 1, p=[0.2, 0.7, 0.1])[0]\n",
    "        if(choice == 0 and elem[2]==1):\n",
    "            knows_obs.add(elem)\n",
    "        elif(choice == 1):\n",
    "            knows_tru.add(elem)\n",
    "        else:\n",
    "            knows_tar.add(elem)\n",
    "    return knows_obs, knows_tru, knows_tar\n",
    "\n",
    "def saveKnows(knows_obs, knows_tru, knows_tar):\n",
    "    with open('knows_obs1.txt', 'a') as f:\n",
    "        for elem in knows_obs:\n",
    "            f.write(elem[0] + \"\\t\" + elem[1] + \"\\n\")\n",
    "    print(\"save\")\n",
    "    with open('knows_truth1.txt', 'a') as f:\n",
    "        for elem in knows_tru:\n",
    "            f.write(elem[0] + \"\\t\" + elem[1] + \"\\t\" + str(elem[2]) + \"\\n\")\n",
    "    print(\"save\")\n",
    "    with open('knows_targets1.txt', 'a') as f:\n",
    "        for elem in knows_tru:\n",
    "            f.write(elem[0] + \"\\t\" + elem[1] + \"\\n\")\n",
    "\n",
    "\n",
    "print(\"obtained users\")\n",
    "users = getusers()\n",
    "print(\"obtained users\")\n",
    "\n",
    "reviews=[]\n",
    "userset = {}\n",
    "for user in users:\n",
    "    user['lived'] = set()\n",
    "    userset[user['user_id']] = user\n",
    "\n",
    "businesses = {}\n",
    "with open('../yelp/yelp_academic_dataset_business.json') as f:\n",
    "    for line in f:\n",
    "        business = json.loads(line)\n",
    "        businesses[business['business_id']] = business['city']\n",
    "\n",
    "print(\"downloaded business\")\n",
    "with open('../yelp/yelp_academic_dataset_review.json') as f:\n",
    "    for line in f:\n",
    "        review = json.loads(line)\n",
    "        if(review['user_id'] in userset):\n",
    "            userset[review['user_id']]['lived'].add(businesses[review['business_id']])"
   ]
  },
  {
   "cell_type": "code",
   "execution_count": 70,
   "metadata": {},
   "outputs": [
    {
     "name": "stdout",
     "output_type": "stream",
     "text": [
      "done\n"
     ]
    }
   ],
   "source": [
    "with open('lives_obs.txt', 'a') as f:\n",
    "    for user in users:\n",
    "        for city in user['lived']:\n",
    "            f.write(user['user_id'] + \"\\t\" + city + \"\\n\")\n",
    "print(\"done\")"
   ]
  },
  {
   "cell_type": "code",
   "execution_count": 71,
   "metadata": {
    "collapsed": true
   },
   "outputs": [],
   "source": [
    "temp={}\n",
    "with open('../yelp/yelp_academic_dataset_business.json') as f:\n",
    "    for line in f:\n",
    "        business = json.loads(line)\n",
    "        temp[business['business_id']] = business"
   ]
  },
  {
   "cell_type": "code",
   "execution_count": 75,
   "metadata": {},
   "outputs": [
    {
     "data": {
      "text/plain": [
       "{'average_stars': 3.23,\n",
       " 'compliment_cool': 251,\n",
       " 'compliment_cute': 21,\n",
       " 'compliment_funny': 251,\n",
       " 'compliment_hot': 191,\n",
       " 'compliment_list': 10,\n",
       " 'compliment_more': 17,\n",
       " 'compliment_note': 194,\n",
       " 'compliment_photos': 20,\n",
       " 'compliment_plain': 138,\n",
       " 'compliment_profile': 5,\n",
       " 'compliment_writer': 39,\n",
       " 'cool': 743,\n",
       " 'elite': ['2009', '2008', '2010', '2011'],\n",
       " 'fans': 53,\n",
       " 'friends': ['mmgiD9RKnAasJorjSqmpNA',\n",
       "  '-VtIPsp0TgYyO4bg9vyG9A',\n",
       "  'VHdY6oG2JPVNjihWhOooAQ',\n",
       "  'G5LXEaxhQMF_BVjNHkVr7g',\n",
       "  '_owMBYfzT9dO7FXGXXzXqA',\n",
       "  'KOWl_ZhqhYqY33-CbaJubw',\n",
       "  'zVuWQbPxlShksEQ3QcLgbg',\n",
       "  'LaNXfiMDjMib2NhK4BE7-Q',\n",
       "  '627ihUMdDCxyXw1mOj1MVA',\n",
       "  'BwFEjsr9yLqdszAmAxFYQg',\n",
       "  'mvK1pv-x0Z5rP4Hz9cWBWw',\n",
       "  'YZbfmhKsWCqoq8P0_iFv9w',\n",
       "  'a8QNaErKMX1GTPfBPaH-bA',\n",
       "  '3yBusRwPYtMCpaBkEyhyJw',\n",
       "  'nkN_do3fJ9xekchVC-v68A',\n",
       "  'tGxhVMTDSdG1n5oJH0k0Ug',\n",
       "  'qUGMYSGV24KD8QFCdGGIlQ',\n",
       "  'sxwVQcMZkiez3R_442GkAQ',\n",
       "  'TKzFASCz7GLGUcwO1QG2jA',\n",
       "  'BwExSNP_EMOtr83AAF8VFw',\n",
       "  'irkLTpGy-NJjJDgkqZXC4A',\n",
       "  '96IKLbNHdK-sOAjuMwoegw',\n",
       "  'ci3qVCiV3h7YVqDlrj4-yw',\n",
       "  '3yVoLX19pKAIPKFDjR3pqw',\n",
       "  'OpRzZq-L-PgCzApGt8XdLw',\n",
       "  'Cvvu2V_FO3FjxIHpartSMg',\n",
       "  '-LhU9PZZKaP_xFa_rjo9jQ',\n",
       "  'PmxWSHCoiGGDm2ceHNqPog',\n",
       "  '1kpMAKRZuAz3OzxBav3XTg',\n",
       "  'P6_r7O8zEjnxTSBkS6WYfg',\n",
       "  'C7Vo14RpRTG5Bc84l4q6DQ',\n",
       "  'hCIAOge9ebt0f8UL1sXCQQ',\n",
       "  'mPmbOkH3NxXbdoJ-lejjzw',\n",
       "  '5bgsQymr8HDT3tyC1N3Uhg',\n",
       "  'H42JuS0bQLf_G0iXeNUpwg',\n",
       "  '2l0O1EI1m0yWjFo2zSt71w',\n",
       "  '_lwO5J1gFihqA_QfHJh3ig',\n",
       "  'kUXozMM-hvcSW87bM21RMw',\n",
       "  'CYr-lRWMpeJzSSsjwu1Iog',\n",
       "  'xMKpXNaicvI-BgSA69yp9A',\n",
       "  'kofiqkPOeo1loQHsVbxQXg',\n",
       "  'rqv9mIc9pj9R_b0MIm_fzg',\n",
       "  'n6GBeJVd1C2dszlSOBAfJw',\n",
       "  'eW-IQGFyOcqg-aKuhxKf3g',\n",
       "  'uzKSHzWVD_ajbrCo5zElDw',\n",
       "  'atzoegnMjNiJuqQWNOJeEg',\n",
       "  'ZcFB7xOpJufgX9hHPFh9mQ',\n",
       "  'Q2KtUrIz2C4nE6Yi8gvLWg',\n",
       "  'veYx6H1fEr99NFfg_jdPqA',\n",
       "  '0rK89TS8xqy1wI4nYI1wfw',\n",
       "  'zoyb93pskMhDgXZgv-DKtA',\n",
       "  'EDBTE8HMO-iN5hAi9B382A',\n",
       "  'EiwxlbR8fb68lMgEXhcWKA',\n",
       "  'vASaF47nWvCHEEDA8nfCVw',\n",
       "  'RT8Y7PxPzC7DuAjAquNjng',\n",
       "  'vsfG95vDU20d7upU1Zs6uA',\n",
       "  'xLldDRZe1DCTY-05-OIauA',\n",
       "  'zAFS5GwqdQH9ZlwgL5ywAQ',\n",
       "  '2oiPE2rww3Ofw09aishi2A',\n",
       "  '2Gy7OX3zFVfNeeHLhmpzJw',\n",
       "  'NNN9qmqS-obqC1ozF-GNvQ',\n",
       "  'vBAejKR6g7vZSfLh5kG_iA',\n",
       "  'wb2I6PxYjRStE7OGLL4S7A',\n",
       "  '_aSs5dSAabuwnXUGBPzASw',\n",
       "  'eigZw_Tn4TWJPSZ9UO9Auw',\n",
       "  'RjKOn93-7yX-I2l81DCbOw',\n",
       "  'iChrn349gyWB-8UGyn8a6Q',\n",
       "  '0kSXMbNFo7mdwTPj4iQv9A',\n",
       "  'TnRBeUxI5zi5sIXIg-F1ug',\n",
       "  'o_8sVoYIFnoVun5YY_lAEg',\n",
       "  'dfYNTBw--CYlZbFz581kYQ',\n",
       "  'yLW8OrR8Ns4X1oXJmkKYgg',\n",
       "  'mrO2R1Uc_DmKKEtH2VTNDg',\n",
       "  '5mG2ENw2PylIWElqHSMGqg',\n",
       "  '4ULUWqda23gUl_VylJ2OAw',\n",
       "  'LCZSBQCIss8Aw3AXcdFSow',\n",
       "  'TGdnpYdQgPnKAd7JoC37pQ',\n",
       "  'fMBA_z1hwURKp9uArgSmKA',\n",
       "  'gvYdMI_M6clQDGkrAvbRuA',\n",
       "  'V7VAbouEnCt39fsA1MM6RA',\n",
       "  'FaYXjGgLtetpCCiKmEsq9g',\n",
       "  'Tz1FRUGfq7xBf4-ZGlvLZg',\n",
       "  '_SVfoi3YUFNHswsfZUO9mg',\n",
       "  'QVAmRIrCxhYLqh7wl4Vlog',\n",
       "  'DTEa4cIRdr6T4jaIw1xubg',\n",
       "  'Mi1VEqRHfJ75ESxPuAV9MQ',\n",
       "  'ij1EkydgfT0fopex9SpKLA',\n",
       "  '4NitvNh8X02PjlObwzYsIg',\n",
       "  're3AdczLFP4D7xwI6DkBNA',\n",
       "  'G9Vb6yQ047TC3O_-GG4WZA',\n",
       "  'qNrHLZPurBWJzeAMkFLvvA',\n",
       "  'EJa9HzHhpKIKUBKF0GA5QA',\n",
       "  'L5OCs5ri6Wrtpfru5IGuaQ',\n",
       "  'eWLJMa7m_pHRdg1VANIK_Q',\n",
       "  '25-qCHqEJWOzawwSDxyoNw',\n",
       "  'ioLQrCvCBz3HmlKZeFxbJQ',\n",
       "  'gY-3SuseT_O65JGGoOfLPw',\n",
       "  '3Vd_ATdvvuVVgn_YCpz8fw',\n",
       "  'SVtNctg9k2QOGj0znfHVwQ',\n",
       "  '6ZR7HuUpHk_NQNs0dT0oLg',\n",
       "  'S5WQcThM04eH7Eu0YJ1a1Q',\n",
       "  'iLjMdZi0Tm7DQxX1C1_2dg',\n",
       "  'F_WfNGoYHAHDQy2abIYoNg',\n",
       "  'cf-J2rZQyklNDFuTEeCIMw',\n",
       "  '0V4Ra6jCmSAgFtCiORr4QA',\n",
       "  'kxGmX1lBXJAv-4mI_QduWg',\n",
       "  'JgSMZ6MUZGf38cSBajknww',\n",
       "  'TwPlaNvnziaN2wB3lk_9Mw',\n",
       "  '_pIG1_s6Bzymn1zeyLjBHQ',\n",
       "  'hOzPAkK92GtpGM7JOSrDYw',\n",
       "  'IkRib6Xs91PPW7pon7VVig',\n",
       "  'LAwptwS7nJwPkV5Niy9jkg',\n",
       "  'Rd__6ZGCWea1o8Yku7ZsaA',\n",
       "  'UVxY0iyPaqY7s4BSFtt-xA',\n",
       "  'RsDAxD8_zQYVX1Oy2NGvPw',\n",
       "  'ctXFXk9-m6PCMoI-Nz2_XQ',\n",
       "  '_G1EWjD8Ra2QbFAcpLC9Cw',\n",
       "  'JImdyO8S7Rui_yDwS5d4Rw',\n",
       "  'GGWjA8v479feCo6OPTLQOg',\n",
       "  'cjotiAHFSbFuvbxTWmGi1Q',\n",
       "  '-9I98YbNQnLdAmcYfb324Q',\n",
       "  '3Ymp49H-fWveJDqCuQzSMg',\n",
       "  'lfu6GMKxC79tJu1sZdlJQA',\n",
       "  'qPGFtE9Qp7ABOoNJSXGuLg',\n",
       "  '-4BEUkLvHQntN6qPfKJP2w',\n",
       "  'a21yEFhTXEJImb9hGl0JyQ',\n",
       "  '5_GZPSAc1svAih8-a8hFmg'],\n",
       " 'funny': 987,\n",
       " 'lived': {'Boulder City', 'Las Vegas', 'Pittsburgh', 'Toronto'},\n",
       " 'name': 'Chris',\n",
       " 'review_count': 591,\n",
       " 'type': 'user',\n",
       " 'useful': 565,\n",
       " 'user_id': 'v10dHdqf42tUkxbYVnFW6w',\n",
       " 'yelping_since': '2007-12-10'}"
      ]
     },
     "execution_count": 75,
     "metadata": {},
     "output_type": "execute_result"
    }
   ],
   "source": []
  }
 ],
 "metadata": {
  "anaconda-cloud": {},
  "kernelspec": {
   "display_name": "Python 3",
   "language": "python",
   "name": "python3"
  },
  "language_info": {
   "codemirror_mode": {
    "name": "ipython",
    "version": 3
   },
   "file_extension": ".py",
   "mimetype": "text/x-python",
   "name": "python",
   "nbconvert_exporter": "python",
   "pygments_lexer": "ipython3",
   "version": "3.4.5"
  }
 },
 "nbformat": 4,
 "nbformat_minor": 1
}
