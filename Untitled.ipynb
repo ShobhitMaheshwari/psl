{
 "cells": [
  {
   "cell_type": "code",
   "execution_count": 6,
   "metadata": {
    "collapsed": true
   },
   "outputs": [],
   "source": [
    "import json\n",
    "import numpy as np\n",
    "import copy\n",
    "from random import shuffle\n",
    "\n",
    "def plot(users):\n",
    "    import matplotlib.pyplot as plt\n",
    "    import numpy as np\n",
    "    import plotly.plotly as py\n",
    "\n",
    "    a=[]\n",
    "    for user in users:\n",
    "        a.append(len(user['friends']))\n",
    "\n",
    "    import numpy as np\n",
    "    import matplotlib.mlab as mlab\n",
    "    import matplotlib.pyplot as plt\n",
    "    n, bins, patches = plt.hist(a, 50, normed=1, facecolor='green', alpha=0.75)\n",
    "    plt.show()\n",
    "\n",
    "def getusers(thresh, filter=False):\n",
    "    users=[]\n",
    "    with open('../yelp/yelp_academic_dataset_user.json') as f:\n",
    "        for line in f:\n",
    "            users.append(json.loads(line))\n",
    "\n",
    "    print(\"total users in dataset: \" + str(len(users)))\n",
    "    if(not filter):\n",
    "        return users\n",
    "    \n",
    "    a=set()\n",
    "    users2 = []\n",
    "    for user in users:\n",
    "        if (len(user['friends']) > thresh):\n",
    "            a.add(user['user_id'])\n",
    "            users2.append(copy.deepcopy(user))\n",
    "\n",
    "    for user in users2:\n",
    "        user['friends'] = [x for x in user['friends'] if x in a]\n",
    "    print (\"total filtered users: \"+str(len(users2)) + \" thresh: \" + str(thresh))\n",
    "    return users2\n",
    "\n",
    "def create_knows(users2):\n",
    "    #creating knows_obs file\n",
    "    knows=set()\n",
    "    for user in users2:\n",
    "        for friend in user['friends']:\n",
    "            knows.add((user['user_id'], friend, 1)) \n",
    "            knows.add((friend, user['user_id'], 1)) \n",
    "    for i in range(0, len(users2)):\n",
    "        for j in range(i+1, len(users2)):\n",
    "            if((users2[i]['user_id'], users2[j]['user_id'], 1) not in knows):\n",
    "                knows.add((users2[i]['user_id'], users2[j]['user_id'], 0)) \n",
    "            if((users2[j]['user_id'], users2[i]['user_id'], 1) not in knows):\n",
    "                knows.add((users2[j]['user_id'], users2[i]['user_id'], 0)) \n",
    "    \n",
    "    #print data to file\n",
    "    knows_obs = set()\n",
    "    knows_tru = set()\n",
    "    knows = list(knows)\n",
    "    shuffle(knows)\n",
    "    for i in range(0, len(knows)):\n",
    "        if(i < len(knows)*.9):\n",
    "            choice=0\n",
    "        else:\n",
    "            choice = 1\n",
    "        elem = knows[i]\n",
    "        if(choice == 0 and elem[2]==1):\n",
    "            knows_obs.add(elem)\n",
    "        else:\n",
    "            knows_tru.add(elem)\n",
    "    return knows_obs, knows_tru\n",
    "\n",
    "def saveKnows(knows_obs, knows_tru):\n",
    "    with open('knows_obs.txt', 'a') as f:\n",
    "        for elem in knows_obs:\n",
    "            f.write(elem[0] + \"\\t\" + elem[1] + \"\\n\")\n",
    "    with open('knows_truth.txt', 'a') as f:\n",
    "        for elem in knows_tru:\n",
    "            f.write(elem[0] + \"\\t\" + elem[1] + \"\\t\" + str(elem[2]) + \"\\n\")\n",
    "    with open('knows_targets.txt', 'a') as f:\n",
    "        for elem in knows_tru:\n",
    "            f.write(elem[0] + \"\\t\" + elem[1] + \"\\n\")\n",
    "            \n",
    "def save_lived(users):\n",
    "    reviews=[]\n",
    "    userset = {}\n",
    "    for user in users:\n",
    "        user['lived'] = set()\n",
    "        userset[user['user_id']] = user\n",
    "\n",
    "    businesses = {}\n",
    "    with open('../yelp/yelp_academic_dataset_business.json') as f:\n",
    "        for line in f:\n",
    "            business = json.loads(line)\n",
    "            businesses[business['business_id']] = business['city']\n",
    "\n",
    "    with open('../yelp/yelp_academic_dataset_review.json') as f:\n",
    "        for line in f:\n",
    "            review = json.loads(line)\n",
    "            if(review['user_id'] in userset):\n",
    "                userset[review['user_id']]['lived'].add(businesses[review['business_id']])\n",
    "                \n",
    "    with open('lived_obs.txt', 'a') as f:\n",
    "        for user in users:\n",
    "            for city in user['lived']:\n",
    "                f.write(user['user_id'] + \"\\t\" + city + \"\\n\")"
   ]
  },
  {
   "cell_type": "code",
   "execution_count": 3,
   "metadata": {},
   "outputs": [
    {
     "data": {
      "image/png": "[encoded data removed]",
      "text/plain": [
       "<matplotlib.figure.Figure at 0x7fa63808b518>"
      ]
     },
     "metadata": {},
     "output_type": "display_data"
    }
   ],
   "source": [
    "users1 = getusers()\n",
    "plot(users1)"
   ]
  },
  {
   "cell_type": "code",
   "execution_count": 10,
   "metadata": {},
   "outputs": [
    {
     "name": "stdout",
     "output_type": "stream",
     "text": [
      "total users in dataset: 1029432\n",
      "total filtered users: 514 thresh: 2000\n"
     ]
    },
    {
     "data": {
      "image/png": "[encoded data removed]",
      "text/plain": [
       "<matplotlib.figure.Figure at 0x7f70dbec4320>"
      ]
     },
     "metadata": {},
     "output_type": "display_data"
    },
    {
     "name": "stdout",
     "output_type": "stream",
     "text": [
      "done\n"
     ]
    }
   ],
   "source": [
    "from random import shuffle\n",
    "users = getusers(2000, True)# other possible threshold is 2000\n",
    "plot(users)\n",
    "knows_obs, knows_tru = create_knows(users)\n",
    "saveKnows(knows_obs, knows_tru)\n",
    "save_lived(users)\n",
    "print(\"done\")"
   ]
  },
  {
   "cell_type": "code",
   "execution_count": 7,
   "metadata": {},
   "outputs": [
    {
     "name": "stdout",
     "output_type": "stream",
     "text": [
      "total users in dataset: 1029432\n",
      "total filtered users: 350 thresh: 2500\n"
     ]
    },
    {
     "data": {
      "image/png": "[encoded data removed]",
      "text/plain": [
       "<matplotlib.figure.Figure at 0x7f70d45bd2e8>"
      ]
     },
     "metadata": {},
     "output_type": "display_data"
    },
    {
     "name": "stdout",
     "output_type": "stream",
     "text": [
      "done\n"
     ]
    }
   ],
   "source": [
    "from random import shuffle\n",
    "users = getusers(2500, True)# other possible threshold is 2000\n",
    "plot(users)\n",
    "knows_obs, knows_tru = create_knows(users)\n",
    "saveKnows(knows_obs, knows_tru)\n",
    "save_lived(users)\n",
    "print(\"done\")"
   ]
  }
 ],
 "metadata": {
  "anaconda-cloud": {},
  "kernelspec": {
   "display_name": "Python 3",
   "language": "python",
   "name": "python3"
  },
  "language_info": {
   "codemirror_mode": {
    "name": "ipython",
    "version": 3
   },
   "file_extension": ".py",
   "mimetype": "text/x-python",
   "name": "python",
   "nbconvert_exporter": "python",
   "pygments_lexer": "ipython3",
   "version": "3.4.5"
  }
 },
 "nbformat": 4,
 "nbformat_minor": 1
}
